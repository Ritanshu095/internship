{
 "cells": [
  {
   "cell_type": "code",
   "execution_count": 3,
   "id": "4db7712b-846a-4b17-a71c-38bf0d9aa373",
   "metadata": {},
   "outputs": [],
   "source": [
    "# Using touch function\n",
    "import os\n",
    "def touch(file_name, times=None):\n",
    "    if os.path.exists(file_name):\n",
    "        os.utime(file_name, None)\n",
    "    else:\n",
    "        open(file_name, 'a').close()\n",
    "        \n",
    "touch(\"C:/Users/tiwar/Desktop/info.py\")"
   ]
  },
  {
   "cell_type": "code",
   "execution_count": 4,
   "id": "6c8e8d70-682d-4770-859b-87b283bd8979",
   "metadata": {},
   "outputs": [
    {
     "name": "stdout",
     "output_type": "stream",
     "text": [
      "Director 'Usingmkdir' created\n"
     ]
    }
   ],
   "source": [
    "# using mkdir command\n",
    "\n",
    "directory = \"Usingmkdir\"\n",
    "parent_dir = \"C:/Users/tiwar/Desktop\"\n",
    "path = os.path.join(parent_dir, directory)\n",
    "os.mkdir(path)\n",
    "print(\"Director '%s' created\" %directory)\n"
   ]
  },
  {
   "cell_type": "code",
   "execution_count": 5,
   "id": "85833152-9715-4063-820a-9e2121c91a2a",
   "metadata": {},
   "outputs": [],
   "source": [
    "import os\n",
    "\n",
    "file_path = \"C:/Users/tiwar/Desktop/info.py\"\n",
    "os.remove(file_path)\n"
   ]
  },
  {
   "cell_type": "code",
   "execution_count": 10,
   "id": "9ff30d81-8071-484a-9de2-85a44cb0b760",
   "metadata": {},
   "outputs": [
    {
     "data": {
      "text/plain": [
       "1"
      ]
     },
     "execution_count": 10,
     "metadata": {},
     "output_type": "execute_result"
    }
   ],
   "source": [
    "import os\n",
    "cmd = \"Live like a king\"\n",
    "os.system(\"echo 'Hello! ANN is awesome.' >> ~/file.txt\")\n",
    "#os.system(\"cat ~/file.txt\")\n",
    "os.system(cmd)"
   ]
  },
  {
   "cell_type": "code",
   "execution_count": null,
   "id": "99bbc05c-49f4-4651-929b-132a75bade0c",
   "metadata": {},
   "outputs": [],
   "source": []
  }
 ],
 "metadata": {
  "kernelspec": {
   "display_name": "Python 3 (ipykernel)",
   "language": "python",
   "name": "python3"
  },
  "language_info": {
   "codemirror_mode": {
    "name": "ipython",
    "version": 3
   },
   "file_extension": ".py",
   "mimetype": "text/x-python",
   "name": "python",
   "nbconvert_exporter": "python",
   "pygments_lexer": "ipython3",
   "version": "3.9.7"
  }
 },
 "nbformat": 4,
 "nbformat_minor": 5
}
