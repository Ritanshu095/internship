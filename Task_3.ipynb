{
 "cells": [
  {
   "cell_type": "code",
   "execution_count": 1,
   "id": "reflected-console",
   "metadata": {},
   "outputs": [],
   "source": [
    "import random"
   ]
  },
  {
   "cell_type": "code",
   "execution_count": 2,
   "id": "efficient-spectacular",
   "metadata": {},
   "outputs": [],
   "source": [
    "data_file = {\"How are you?\":[\"Hello, thanks for asking\", \" Good to see you again\", \"Hi there, how can I help?\"],\n",
    "        \"Nice chatting to you, bye\":[\"See you!\", \"Have a nice day\", \"Bye! come back again soon.\"],\n",
    "        \"default\":[\"Sorry!\"]}"
   ]
  },
  {
   "cell_type": "code",
   "execution_count": null,
   "id": "continued-politics",
   "metadata": {},
   "outputs": [],
   "source": []
  },
  {
   "cell_type": "code",
   "execution_count": 3,
   "id": "charitable-anger",
   "metadata": {},
   "outputs": [],
   "source": [
    "def respond(message):\n",
    "    if message in data_file:\n",
    "        bot_message = random.choice(data_file[message])\n",
    "    else:\n",
    "        bot_message = random.choice(data_file[\"default\"])\n",
    "    return bot_message"
   ]
  },
  {
   "cell_type": "code",
   "execution_count": 4,
   "id": "optical-chance",
   "metadata": {},
   "outputs": [],
   "source": [
    "def related(x_text): \n",
    "    if \"how are\" in x_text: \n",
    "        y_text = \"How are you?\"\n",
    "    elif \"anyone\" in x_text: \n",
    "        y_text = \"How are you?\"\n",
    "    elif \"see you\" in x_text: \n",
    "        y_text = \"Nice chatting to you, bye\"\n",
    "    elif \"next time\" in x_text: \n",
    "        y_text = \"Nice chatting to you, bye\"\n",
    "    elif \"nice chatting to you\" in x_text:\n",
    "        y_text = \"Nice chatting to you, bye\"\n",
    "    else: \n",
    "        y_text = \"\"\n",
    "    return y_text"
   ]
  },
  {
   "cell_type": "code",
   "execution_count": 5,
   "id": "demographic-investing",
   "metadata": {},
   "outputs": [],
   "source": [
    "def send_message(message):\n",
    "    print(\"User:\",my_input)\n",
    "    response = respond(message)\n",
    "    print(\"Bot:\",response)"
   ]
  },
  {
   "cell_type": "code",
   "execution_count": 6,
   "id": "comparative-causing",
   "metadata": {},
   "outputs": [
    {
     "name": "stdin",
     "output_type": "stream",
     "text": [
      " how are\n"
     ]
    },
    {
     "name": "stdout",
     "output_type": "stream",
     "text": [
      "User: how are\n",
      "Bot: Hi there, how can I help?\n"
     ]
    },
    {
     "name": "stdin",
     "output_type": "stream",
     "text": [
      " next time\n"
     ]
    },
    {
     "name": "stdout",
     "output_type": "stream",
     "text": [
      "User: next time\n",
      "Bot: Bye! come back again soon.\n"
     ]
    },
    {
     "name": "stdin",
     "output_type": "stream",
     "text": [
      " exit\n"
     ]
    },
    {
     "name": "stdout",
     "output_type": "stream",
     "text": [
      "User: exit\n",
      "Bot: Sorry!\n"
     ]
    }
   ],
   "source": [
    "while 1:\n",
    "    my_input = input() \n",
    "    my_input = my_input.lower() \n",
    "    related_text = related(my_input) \n",
    "    send_message(related_text)\n",
    "    if my_input == \"exit\" or my_input == \"stop\": \n",
    "        break"
   ]
  },
  {
   "cell_type": "code",
   "execution_count": null,
   "id": "desirable-bachelor",
   "metadata": {},
   "outputs": [],
   "source": []
  }
 ],
 "metadata": {
  "kernelspec": {
   "display_name": "Python 3 (ipykernel)",
   "language": "python",
   "name": "python3"
  },
  "language_info": {
   "codemirror_mode": {
    "name": "ipython",
    "version": 3
   },
   "file_extension": ".py",
   "mimetype": "text/x-python",
   "name": "python",
   "nbconvert_exporter": "python",
   "pygments_lexer": "ipython3",
   "version": "3.9.2"
  }
 },
 "nbformat": 4,
 "nbformat_minor": 5
}
